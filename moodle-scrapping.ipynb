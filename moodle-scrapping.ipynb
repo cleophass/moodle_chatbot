{
 "cells": [
  {
   "cell_type": "markdown",
   "metadata": {},
   "source": [
    "# This notebook as been used to scrap all moodle files"
   ]
  },
  {
   "cell_type": "code",
   "execution_count": 2,
   "metadata": {},
   "outputs": [],
   "source": [
    "# get credentials from venv \n",
    "import os \n",
    "moodle_url = os.getenv('moodle_url')\n",
    "username = os.getenv('username')\n",
    "password = os.getenv('password')"
   ]
  },
  {
   "cell_type": "markdown",
   "metadata": {},
   "source": [
    "The part below is used to setup selenium web driver to scrap moodle files"
   ]
  },
  {
   "cell_type": "code",
   "execution_count": 8,
   "metadata": {},
   "outputs": [],
   "source": [
    "import os\n",
    "import time\n",
    "from selenium import webdriver\n",
    "from selenium.webdriver.common.by import By\n",
    "from selenium.webdriver.chrome.service import Service\n",
    "from selenium.webdriver.support.ui import WebDriverWait\n",
    "from selenium.webdriver.support import expected_conditions as EC\n",
    "from webdriver_manager.chrome import ChromeDriverManager\n",
    "\n",
    "# ✅ Setup the download directory\n",
    "download_folder = os.path.abspath(\"moodle_downloads\")\n",
    "if not os.path.exists(download_folder):\n",
    "    os.makedirs(download_folder)\n",
    "\n",
    "# ✅ Setup the text file for saving links progressively\n",
    "links_file_path = os.path.join(download_folder, \"moodle_links.txt\")\n",
    "\n",
    "# ✅ Chrome Options: Disable PDF Viewer and Force Download\n",
    "options = webdriver.ChromeOptions()\n",
    "options.add_experimental_option(\"prefs\", {\n",
    "    \"download.default_directory\": download_folder,  \n",
    "    \"download.prompt_for_download\": False,  \n",
    "    \"download.directory_upgrade\": True,  \n",
    "    \"plugins.always_open_pdf_externally\": True,  \n",
    "    \"safebrowsing.enabled\": True  \n",
    "})\n"
   ]
  },
  {
   "cell_type": "code",
   "execution_count": 29,
   "metadata": {},
   "outputs": [],
   "source": [
    "\n",
    "driver = webdriver.Chrome(service=Service(ChromeDriverManager().install()), options=options)  \n",
    "\n",
    "# ✅ Step 1: Login Function\n",
    "def login():\n",
    "    driver.get(moodle_url)\n",
    "\n",
    "    try:\n",
    "        oauth_button = WebDriverWait(driver, 10).until(\n",
    "            EC.element_to_be_clickable((By.XPATH, \"//a[contains(@href, 'auth/oauth2')]\"))\n",
    "        )\n",
    "        oauth_button.click() #As we said here's the part when you get redirected to MyEFrei portal and you have to fill it with your credentials\n",
    "        print(\"Redirecting to the portal...\")\n",
    "    except:\n",
    "        print(\"OAuth2 button not detected. Attempting direct login...\")\n",
    "\n",
    "    WebDriverWait(driver, 10).until(EC.presence_of_element_located((By.ID, \"username\"))).send_keys(username) #here we fill the username field\n",
    "    driver.find_element(By.ID, \"password\").send_keys(password) #here we fill the password field\n",
    "    driver.find_element(By.XPATH, \"//button[@type='submit']\").click()\n",
    "    print(\"Successfully logged in!\")\n",
    "    time.sleep(5)\n",
    "\n",
    "# ✅ Fetch all categories\n",
    "def get_all_categories():\n",
    "    return driver.find_elements(By.XPATH, \"//h4[@class='categoryname aabtn']/a\") #First when we arrived to home page when fetch all possible categories.\n",
    "\n",
    "# ✅ Fetch all courses within a category\n",
    "def get_all_courses():\n",
    "    return driver.find_elements(By.XPATH, \"//h3[@class='coursename']/a\") #As we said it's a complex tree, inside the categories we have courses and inside the courses we have the files.\n",
    "\n",
    "# ✅ Fetch all downloadable files within a course and write to file progressively\n",
    "def get_all_downloads():# We don't directly download the data in order to be more efficient we juste keep the download link\n",
    "    file_links = driver.find_elements(By.XPATH, \"//a[contains(@href, 'mod/resource/view.php')]\")\n",
    "    urls = [link.get_attribute(\"href\") for link in file_links]\n",
    "\n",
    "    # ✅ Write each link to the file progressively\n",
    "    with open(links_file_path, \"a\") as file:\n",
    "        for url in urls:\n",
    "            file.write(f\"{url}\\n\")\n",
    "    return urls\n",
    "\n",
    "# ✅ Main scraping function with better navigation handling\n",
    "def scrape_all_files(): #Finnaly we can start the scraping\n",
    "    login()\n",
    "    categories = get_all_categories()\n",
    "    len_categories = len(categories)\n",
    "\n",
    "    for i in range(len_categories):\n",
    "        categories = get_all_categories()\n",
    "        category_link = categories[i].get_attribute('href')\n",
    "        print(\"link\",category_link)\n",
    "        driver.get(category_link)\n",
    "        time.sleep(2)\n",
    "\n",
    "        courses = get_all_courses()\n",
    "        for course in courses:\n",
    "            course_link = course.get_attribute('href')\n",
    "            driver.get(course_link)\n",
    "            time.sleep(2)\n",
    "\n",
    "            # ✅ Fetch files and write links progressively\n",
    "            get_all_downloads()\n",
    "\n",
    "            # Navigate back safely\n",
    "            driver.back()\n",
    "            time.sleep(2)\n",
    "\n",
    "        # Navigate back to categories\n",
    "        driver.get(moodle_url)\n",
    "        time.sleep(2)\n",
    "\n",
    "\n",
    "def partial_scrape_all_files():\n",
    "    login()\n",
    "    categories = valid_categories_links\n",
    "    len_categories = len(categories)\n",
    "    for i in range(len_categories):\n",
    "        categories = get_all_categories()\n",
    "        category_link = categories[i].get_attribute('href')\n",
    "        print(\"link\",category_link)\n",
    "        driver.get(category_link)\n",
    "        time.sleep(2)\n",
    "\n",
    "        courses = get_all_courses()\n",
    "        for course in courses:\n",
    "            course_link = course.get_attribute('href')\n",
    "            driver.get(course_link)\n",
    "            time.sleep(2)\n",
    "\n",
    "            # ✅ Fetch files and write links progressively\n",
    "            get_all_downloads()\n",
    "\n",
    "            # Navigate back safely\n",
    "            driver.back()\n",
    "            time.sleep(2)\n",
    "\n",
    "        # Navigate back to categories\n",
    "        driver.get(moodle_url)\n",
    "        time.sleep(2)\n",
    "\n",
    "def record_categories():\n",
    "    login()\n",
    "    all_categories = get_all_categories()\n",
    "    with open('categories.txt', 'w') as file:\n",
    "        for category in all_categories:\n",
    "            file.write(f\"{category.get_attribute('href')}\\n\")\n",
    "    print(\"Categories have been saved to categories.txt\")\n",
    "\n"
   ]
  },
  {
   "cell_type": "code",
   "execution_count": null,
   "metadata": {},
   "outputs": [],
   "source": [
    "# ✅ Initialize the WebDriver\n",
    "driver = webdriver.Chrome(service=Service(ChromeDriverManager().install()), options=options)  \n",
    "try:\n",
    "    record_categories()\n",
    "\n",
    "except Exception as e:\n",
    "    print(f\"Error: {e}\")\n",
    "finally:\n",
    "    driver.quit()"
   ]
  },
  {
   "cell_type": "code",
   "execution_count": null,
   "metadata": {},
   "outputs": [],
   "source": [
    "valid_categories_links = []\n",
    "# read categories .txt and take first 6 lines \n",
    "with open('categories.txt') as f:\n",
    "    valid_categories_links = f.readlines()\n",
    "valid_categories_links = [x.strip() for x in valid_categories_links]\n",
    "valid_categories_links = valid_categories_links[:6]\n",
    "\n",
    "print(valid_categories_links)"
   ]
  },
  {
   "cell_type": "markdown",
   "metadata": {},
   "source": [
    "# Then this part is when we have all the url to download and we just want to donwload them"
   ]
  },
  {
   "cell_type": "code",
   "execution_count": 33,
   "metadata": {},
   "outputs": [],
   "source": [
    "moodle_links = \"moodle_links.txt\"\n",
    "download_folder = \"moodle_downloads\"  \n",
    "def download_folder():\n",
    "    login()\n",
    "    with open(moodle_links) as f:\n",
    "        download_links = f.readlines()\n",
    "        download_links = [x.strip() for x in download_links]\n",
    "        for link in download_links:\n",
    "            driver.get(link)\n",
    "            time.sleep(2)        \n"
   ]
  },
  {
   "cell_type": "code",
   "execution_count": null,
   "metadata": {},
   "outputs": [
    {
     "name": "stdout",
     "output_type": "stream",
     "text": [
      "Redirecting to the portal...\n",
      "Successfully logged in!\n"
     ]
    }
   ],
   "source": [
    "\n",
    "driver = webdriver.Chrome(service=Service(ChromeDriverManager().install()), options=options)\n",
    "try:\n",
    "    # partial_scrape_all_files()\n",
    "    download_folder()\n",
    "except Exception as e:\n",
    "    print(f\"Error: {e}\")\n",
    "finally:\n",
    "    driver.quit()"
   ]
  }
 ],
 "metadata": {
  "kernelspec": {
   "display_name": "projet-kii4reU9-py3.10",
   "language": "python",
   "name": "python3"
  },
  "language_info": {
   "codemirror_mode": {
    "name": "ipython",
    "version": 3
   },
   "file_extension": ".py",
   "mimetype": "text/x-python",
   "name": "python",
   "nbconvert_exporter": "python",
   "pygments_lexer": "ipython3",
   "version": "3.10.8"
  }
 },
 "nbformat": 4,
 "nbformat_minor": 2
}
