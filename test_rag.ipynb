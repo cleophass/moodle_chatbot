{
 "cells": [
  {
   "cell_type": "markdown",
   "metadata": {},
   "source": [
    "# Final function used to query the LLM"
   ]
  },
  {
   "cell_type": "code",
   "execution_count": 1,
   "metadata": {},
   "outputs": [],
   "source": [
    "from functions import *\n",
    "from langchain.vectorstores.chroma import Chroma\n",
    "from langchain.prompts import ChatPromptTemplate\n",
    "from langchain_community.llms.ollama import Ollama\n"
   ]
  },
  {
   "cell_type": "code",
   "execution_count": 2,
   "metadata": {},
   "outputs": [],
   "source": [
    "PROMPT_TEMPLATE = \"\"\"\n",
    "Répondez à la question en vous basant uniquement sur le contexte suivant :\n",
    "{context}\n",
    "\n",
    "---\n",
    "Répondez à la question en vous basant sur le contexte ci-dessus : {question}\n",
    "\"\"\""
   ]
  },
  {
   "cell_type": "code",
   "execution_count": 3,
   "metadata": {},
   "outputs": [],
   "source": [
    "def query_rag(query_text: str):\n",
    "    # Prepare the DB.\n",
    "    embedding_function = get_embedding_function()\n",
    "    db = Chroma(persist_directory=CHROMA_PATH, embedding_function=embedding_function)\n",
    "\n",
    "    # Search the DB.\n",
    "    results = db.similarity_search_with_score(query_text, k=5)\n",
    "\n",
    "    context_text = \"\\n\\n---\\n\\n\".join([doc.page_content for doc, _score in results])\n",
    "    prompt_template = ChatPromptTemplate.from_template(PROMPT_TEMPLATE)\n",
    "    prompt = prompt_template.format(context=context_text, question=query_text)\n",
    "    # print(prompt)\n",
    "\n",
    "    model = Ollama(model=\"mistral\")\n",
    "    response_text = model.invoke(prompt)\n",
    "\n",
    "    sources = [doc.metadata.get(\"id\", None) for doc, _score in results]\n",
    "    formatted_response = f\"Response: {response_text}\\nSources: {sources}\"\n",
    "    print(formatted_response)\n",
    "    return response_text"
   ]
  },
  {
   "cell_type": "markdown",
   "metadata": {},
   "source": [
    "# Example"
   ]
  },
  {
   "cell_type": "code",
   "execution_count": 4,
   "metadata": {},
   "outputs": [
    {
     "name": "stderr",
     "output_type": "stream",
     "text": [
      "/Users/cleophasfournier/Documents/EFREI/M2/CHATBOT/projet/functions.py:22: LangChainDeprecationWarning: The class `OllamaEmbeddings` was deprecated in LangChain 0.3.1 and will be removed in 1.0.0. An updated version of the class exists in the :class:`~langchain-ollama package and should be used instead. To use it run `pip install -U :class:`~langchain-ollama` and import as `from :class:`~langchain_ollama import OllamaEmbeddings``.\n",
      "  embeddings = OllamaEmbeddings(model=\"nomic-embed-text\")\n",
      "/var/folders/0m/527c01nj5q18jwlhtjjzyt280000gn/T/ipykernel_17766/1167181993.py:4: LangChainDeprecationWarning: The class `Chroma` was deprecated in LangChain 0.2.9 and will be removed in 1.0. An updated version of the class exists in the :class:`~langchain-chroma package and should be used instead. To use it run `pip install -U :class:`~langchain-chroma` and import as `from :class:`~langchain_chroma import Chroma``.\n",
      "  db = Chroma(persist_directory=CHROMA_PATH, embedding_function=embedding_function)\n",
      "/var/folders/0m/527c01nj5q18jwlhtjjzyt280000gn/T/ipykernel_17766/1167181993.py:14: LangChainDeprecationWarning: The class `Ollama` was deprecated in LangChain 0.3.1 and will be removed in 1.0.0. An updated version of the class exists in the :class:`~langchain-ollama package and should be used instead. To use it run `pip install -U :class:`~langchain-ollama` and import as `from :class:`~langchain_ollama import OllamaLLM``.\n",
      "  model = Ollama(model=\"mistral\")\n"
     ]
    },
    {
     "name": "stdout",
     "output_type": "stream",
     "text": [
      "Response: 6109 est le code d'établissement de l'EFREI pour l'application SoWeSign.\n",
      "Sources: ['data/SoWeSign Guide Etudiant.pdf:7:0', 'data/SoWeSign Guide Etudiant.pdf:1:0', 'data/SoWeSign Guide Etudiant.pdf:5:1', 'data/2022-09_Medaviz présentation étudiants.docx.pdf:0:1', 'data/SoWeSign Guide Etudiant.pdf:0:0']\n"
     ]
    },
    {
     "data": {
      "text/plain": [
       "\"6109 est le code d'établissement de l'EFREI pour l'application SoWeSign.\""
      ]
     },
     "execution_count": 4,
     "metadata": {},
     "output_type": "execute_result"
    }
   ],
   "source": [
    "query_rag(\"Quel est le code d'établissement de l'EFREI pour l'application SoweSign\")"
   ]
  },
  {
   "cell_type": "code",
   "execution_count": 5,
   "metadata": {},
   "outputs": [
    {
     "name": "stdout",
     "output_type": "stream",
     "text": [
      "Response:  Le texte fourni ne mentionne pas le nom du directeur général d'Efrei Paris. Il serait nécessaire de consulter une autre source ou document pour trouver cette information.\n",
      "Sources: ['data/Présentation des Doubles Diplômes et Programmes Associés.pdf:1:2', 'data/guide de létudiant 23-24.pdf:0:1', 'data/Règlement du Campus Efrei Paris 2022.pdf:0:3', 'data/SoWeSign Guide Etudiant.pdf:5:1', 'data/RDE 2023-24 FISE - VF-2.pdf:23:3']\n"
     ]
    },
    {
     "data": {
      "text/plain": [
       "\" Le texte fourni ne mentionne pas le nom du directeur général d'Efrei Paris. Il serait nécessaire de consulter une autre source ou document pour trouver cette information.\""
      ]
     },
     "execution_count": 5,
     "metadata": {},
     "output_type": "execute_result"
    }
   ],
   "source": [
    "query_rag(\"qui est le directeur général d'EFREI Paris ?\")"
   ]
  },
  {
   "cell_type": "code",
   "execution_count": 6,
   "metadata": {},
   "outputs": [
    {
     "name": "stdout",
     "output_type": "stream",
     "text": [
      "Response:  Dans le contexte fourni, il n'y a pas de mention d'un poste appelé \"Chief Happiness Officer\" à EFREI Paris. Il semble donc qu'il n'y a pas de tel poste dans l'organisation.\n",
      "Sources: ['data/guide de létudiant 23-24.pdf:0:1', 'data/RDE 2023-24 FISE - VF-2.pdf:9:1', 'data/Règlement du Campus Efrei Paris 2022.pdf:0:3', 'data/RDE 2023-24 FISE - VF-2.pdf:39:3', 'data/guide de létudiant 23-24.pdf:1:0']\n"
     ]
    },
    {
     "data": {
      "text/plain": [
       "' Dans le contexte fourni, il n\\'y a pas de mention d\\'un poste appelé \"Chief Happiness Officer\" à EFREI Paris. Il semble donc qu\\'il n\\'y a pas de tel poste dans l\\'organisation.'"
      ]
     },
     "execution_count": 6,
     "metadata": {},
     "output_type": "execute_result"
    }
   ],
   "source": [
    "query_rag(\"qui est le ou la Chief happiness officer d'EFREI Paris ?\")"
   ]
  },
  {
   "cell_type": "code",
   "execution_count": 8,
   "metadata": {},
   "outputs": [
    {
     "name": "stdout",
     "output_type": "stream",
     "text": [
      "Response:  Pour se connecter à Matlab Online depuis un ordinateur, il suffit de suivre les étapes décrites dans le document présenté. Vous pouvez accéder à cette fenêtre de commande qui s’apparente à une application installée localement en incorporée dans votre navigateur web.\n",
      "Sources: ['data/Matlab_Online.pdf:0:0', 'data/Matlab_Online.pdf:5:0', 'data/SoWeSign Guide Etudiant.pdf:6:1', 'data/SoWeSign Guide Etudiant.pdf:6:0', 'data/2022-09_Medaviz présentation étudiants.docx.pdf:0:1']\n"
     ]
    },
    {
     "data": {
      "text/plain": [
       "' Pour se connecter à Matlab Online depuis un ordinateur, il suffit de suivre les étapes décrites dans le document présenté. Vous pouvez accéder à cette fenêtre de commande qui s’apparente à une application installée localement en incorporée dans votre navigateur web.'"
      ]
     },
     "execution_count": 8,
     "metadata": {},
     "output_type": "execute_result"
    }
   ],
   "source": [
    "query_rag(\"Comment se connecter à la Matlab Online depuis un ordinateur\")"
   ]
  },
  {
   "cell_type": "code",
   "execution_count": 9,
   "metadata": {},
   "outputs": [
    {
     "name": "stdout",
     "output_type": "stream",
     "text": [
      "Response:  \"EFREI for Good\" est un programme spécifique qui favorise le développement de compétences transversales et encourage les étudiants à s'investir actifement dans leur environnement académique et sociétal. Il inclut des tutorats, certifications professionnelles, visites d'entreprises, ou encore projets solidaires avec \"Efrei for Good\". Ce programme est également destiné aux sportifs de haut niveau et aux entrepreneurs et offre un accompagnement spécifique à ces catégories.\n",
      "Sources: ['data/RDE 2023-24 FISE - VF-2.pdf:23:3', 'data/guide de létudiant 23-24.pdf:3:4', 'data/Règlement du Campus Efrei Paris 2022.pdf:0:3', 'data/RDE 2023-24 FISE - VF-2.pdf:39:3', 'data/RDE 2023-24 FISE - VF-2.pdf:8:3']\n"
     ]
    },
    {
     "data": {
      "text/plain": [
       "' \"EFREI for Good\" est un programme spécifique qui favorise le développement de compétences transversales et encourage les étudiants à s\\'investir actifement dans leur environnement académique et sociétal. Il inclut des tutorats, certifications professionnelles, visites d\\'entreprises, ou encore projets solidaires avec \"Efrei for Good\". Ce programme est également destiné aux sportifs de haut niveau et aux entrepreneurs et offre un accompagnement spécifique à ces catégories.'"
      ]
     },
     "execution_count": 9,
     "metadata": {},
     "output_type": "execute_result"
    }
   ],
   "source": [
    "query_rag(\"Qu'est ce que EFREI For good ?\")"
   ]
  },
  {
   "cell_type": "code",
   "execution_count": 10,
   "metadata": {},
   "outputs": [
    {
     "name": "stdout",
     "output_type": "stream",
     "text": [
      "Response:  Vous pouvez contacter le service Medaviz en téléchargeant l'application gratuite ou en appelant le numéro 09 74 99 02 40 (appel non surtaxé). Il est également possible de créer votre compte Medaviz sur le site Gorki, en utilisant le code correspondant à l'établissement Efrei Paris (6109) et en vérifiant que vous avez utilisé un email finissant par .net.\n",
      "Sources: ['data/2022-09_Medaviz présentation étudiants.docx.pdf:0:1', 'data/2022-09_Medaviz présentation étudiants.docx.pdf:0:0', 'data/SoWeSign Guide Etudiant.pdf:5:1', 'data/guide de létudiant 23-24.pdf:1:4', 'data/SoWeSign Guide Etudiant.pdf:6:1']\n"
     ]
    },
    {
     "data": {
      "text/plain": [
       "\" Vous pouvez contacter le service Medaviz en téléchargeant l'application gratuite ou en appelant le numéro 09 74 99 02 40 (appel non surtaxé). Il est également possible de créer votre compte Medaviz sur le site Gorki, en utilisant le code correspondant à l'établissement Efrei Paris (6109) et en vérifiant que vous avez utilisé un email finissant par .net.\""
      ]
     },
     "execution_count": 10,
     "metadata": {},
     "output_type": "execute_result"
    }
   ],
   "source": [
    "query_rag(\"Comment contacter Medaviz ?\")"
   ]
  },
  {
   "cell_type": "code",
   "execution_count": 11,
   "metadata": {},
   "outputs": [
    {
     "name": "stdout",
     "output_type": "stream",
     "text": [
      "Response: Être éligible à la Bourse d'Études Human'IT 2023, il faut correspondre aux critères suivants :\n",
      "- Être inscrit en formation initiale des promotions L1, L2 ou L3 du Programme Grande Ecole (hors alternants) pour l'année 2022-2023\n",
      "- Être inscrit en formation initiale des promotions B1, B2 ou B3, ou en BTS des Programmes Experts (hors alternants) pour l'année 2022-2023.\n",
      "\n",
      "Les étudiants doivent remplir leurs demandes de bourse entre le 1er mars 2023 et le 30 avril 2023.\n",
      "\n",
      "Il est important de noter que les dossiers non éligibles comprennent un quotient familial supérieur à 25 000 euros (le montant du quotient familial correspond au Revenu Global Brut divisé par le nombre de parts) et manque d’assiduité (hors absences justifiées).\n",
      "\n",
      "Les seuils d’élimination seront confirmés par la Commission des bourses après.\n",
      "Sources: ['data/2023 Conditions déligibilité à la bourse HumanIT .pdf:0:0', 'data/guide de létudiant 23-24.pdf:2:3', 'data/guide de létudiant 23-24.pdf:0:1', 'data/Présentation des Modules SHC et leur Importance.pdf:1:3', 'data/RDE 2023-24 FISE - VF-2.pdf:11:4']\n"
     ]
    },
    {
     "data": {
      "text/plain": [
       "\"Être éligible à la Bourse d'Études Human'IT 2023, il faut correspondre aux critères suivants :\\n- Être inscrit en formation initiale des promotions L1, L2 ou L3 du Programme Grande Ecole (hors alternants) pour l'année 2022-2023\\n- Être inscrit en formation initiale des promotions B1, B2 ou B3, ou en BTS des Programmes Experts (hors alternants) pour l'année 2022-2023.\\n\\nLes étudiants doivent remplir leurs demandes de bourse entre le 1er mars 2023 et le 30 avril 2023.\\n\\nIl est important de noter que les dossiers non éligibles comprennent un quotient familial supérieur à 25 000 euros (le montant du quotient familial correspond au Revenu Global Brut divisé par le nombre de parts) et manque d’assiduité (hors absences justifiées).\\n\\nLes seuils d’élimination seront confirmés par la Commission des bourses après.\""
      ]
     },
     "execution_count": 11,
     "metadata": {},
     "output_type": "execute_result"
    }
   ],
   "source": [
    "query_rag(\"Comment être elligible a la BOURSE D'ETUDES HUMAN’IT 2023 ?\")"
   ]
  },
  {
   "cell_type": "code",
   "execution_count": 12,
   "metadata": {},
   "outputs": [
    {
     "name": "stdout",
     "output_type": "stream",
     "text": [
      "Response:  Les parcours électifs en M2 sont attribués par défaut au mérite, suivant la procédure \"au meilleur, son meilleur choix\" détaillée dans l'annexe B. Toutefois, pour certains parcours, notamment les filières et les majeures, des prérequis ou des coefficients propres à chaque parcours peuvent être appliqués. Dans ces cas, les élèves sont informés par la direction des études des modalités d'affectation. Le jury composé de la direction des études et du responsable du parcour concerné est souverain dans cette décision (cf article 11.2).\n",
      "Sources: ['data/RDE 2023-24 FISE - VF-2.pdf:29:0', 'data/guide de létudiant 23-24.pdf:0:1', 'data/SoWeSign Guide Etudiant.pdf:6:1', 'data/2022-09_Medaviz présentation étudiants.docx.pdf:0:1', 'data/RDE 2023-24 FISE - VF-2.pdf:6:2']\n"
     ]
    },
    {
     "data": {
      "text/plain": [
       "' Les parcours électifs en M2 sont attribués par défaut au mérite, suivant la procédure \"au meilleur, son meilleur choix\" détaillée dans l\\'annexe B. Toutefois, pour certains parcours, notamment les filières et les majeures, des prérequis ou des coefficients propres à chaque parcours peuvent être appliqués. Dans ces cas, les élèves sont informés par la direction des études des modalités d\\'affectation. Le jury composé de la direction des études et du responsable du parcour concerné est souverain dans cette décision (cf article 11.2).'"
      ]
     },
     "execution_count": 12,
     "metadata": {},
     "output_type": "execute_result"
    }
   ],
   "source": [
    "query_rag(\"Comment les parcours électifs en M2 sont-ils attribués ?\")"
   ]
  },
  {
   "cell_type": "code",
   "execution_count": 13,
   "metadata": {},
   "outputs": [
    {
     "name": "stdout",
     "output_type": "stream",
     "text": [
      "Response:  Non, il n'est pas autorisé de fumer dans l'enceinte de l'école selon le contexte fourni.\n",
      "Sources: ['data/RDE 2023-24 FISE - VF-2.pdf:4:3', 'data/RDE 2023-24 FISE - VF-2.pdf:16:2', 'data/guide de létudiant 23-24.pdf:0:1', \"data/Le Règlement des Études de l'EFREI.pdf:1:2\", 'data/RDE 2023-24 FISE - VF-2.pdf:33:2']\n"
     ]
    },
    {
     "data": {
      "text/plain": [
       "\" Non, il n'est pas autorisé de fumer dans l'enceinte de l'école selon le contexte fourni.\""
      ]
     },
     "execution_count": 13,
     "metadata": {},
     "output_type": "execute_result"
    }
   ],
   "source": [
    "query_rag(\"Est-il autorisé de fumer dans l'enceinte de l'école ?\")"
   ]
  },
  {
   "cell_type": "code",
   "execution_count": 17,
   "metadata": {},
   "outputs": [
    {
     "name": "stdout",
     "output_type": "stream",
     "text": [
      "Response:  Le numéro IBAN du Relevé d'Identité Bancaire (RIB) de l'établissement Efrei Paris est FR76 3000 3038 6100 0502 2727 455.\n",
      "Sources: ['data/SoWeSign Guide Etudiant.pdf:5:1', 'data/2023 Conditions déligibilité à la bourse HumanIT .pdf:0:2', 'data/RIB EFREI PARIS.pdf:0:1', 'data/RDE 2023-24 FISE - VF-2.pdf:17:1', 'data/2022-09_Medaviz présentation étudiants.docx.pdf:0:1']\n"
     ]
    },
    {
     "data": {
      "text/plain": [
       "\" Le numéro IBAN du Relevé d'Identité Bancaire (RIB) de l'établissement Efrei Paris est FR76 3000 3038 6100 0502 2727 455.\""
      ]
     },
     "execution_count": 17,
     "metadata": {},
     "output_type": "execute_result"
    }
   ],
   "source": [
    "query_rag(\"Quel est le numéro IBAN du Relevé d'identité bancaire de de l'efrei si je veux faire un virement pour payer l'année\")"
   ]
  },
  {
   "cell_type": "code",
   "execution_count": 19,
   "metadata": {},
   "outputs": [
    {
     "name": "stdout",
     "output_type": "stream",
     "text": [
      "Response:  Les ECTS (European Credit Transfer and Accumulation System) sont un système standardisé pour transférer et accumuler les crédits d'études entre différents établissements d'enseignement supérieur en Europe. Il est basé sur l'unité de crédit, où 1 crédit équivaut à environ 25 heures d'étude. Les ECTS permettent aux étudiants d'avoir une meilleure compréhension des exigences et de la valeur de leurs études en termes de crédits. Les ECTS ne sont pas explicitement mentionnés dans le contexte fourni, mais ils peuvent être utilisé pour faciliter la reconnaissance mutuelle des crédits d'étude entre différents pays européens et l'institution de transférer des crédits entre établissements.\n",
      "Sources: ['data/2022-09_Medaviz présentation étudiants.docx.pdf:0:1', 'data/Règlement du Campus Efrei Paris 2022.pdf:2:2', 'data/SoWeSign Guide Etudiant.pdf:7:0', 'data/RDE 2023-24 FISE - VF-2.pdf:24:3', 'data/SoWeSign Guide Etudiant.pdf:6:1']\n"
     ]
    },
    {
     "data": {
      "text/plain": [
       "\" Les ECTS (European Credit Transfer and Accumulation System) sont un système standardisé pour transférer et accumuler les crédits d'études entre différents établissements d'enseignement supérieur en Europe. Il est basé sur l'unité de crédit, où 1 crédit équivaut à environ 25 heures d'étude. Les ECTS permettent aux étudiants d'avoir une meilleure compréhension des exigences et de la valeur de leurs études en termes de crédits. Les ECTS ne sont pas explicitement mentionnés dans le contexte fourni, mais ils peuvent être utilisé pour faciliter la reconnaissance mutuelle des crédits d'étude entre différents pays européens et l'institution de transférer des crédits entre établissements.\""
      ]
     },
     "execution_count": 19,
     "metadata": {},
     "output_type": "execute_result"
    }
   ],
   "source": [
    "query_rag(\"Qu'est ce que tu sais des ECTS ?\")"
   ]
  }
 ],
 "metadata": {
  "kernelspec": {
   "display_name": "projet-kii4reU9-py3.10",
   "language": "python",
   "name": "python3"
  },
  "language_info": {
   "codemirror_mode": {
    "name": "ipython",
    "version": 3
   },
   "file_extension": ".py",
   "mimetype": "text/x-python",
   "name": "python",
   "nbconvert_exporter": "python",
   "pygments_lexer": "ipython3",
   "version": "3.10.8"
  }
 },
 "nbformat": 4,
 "nbformat_minor": 2
}
